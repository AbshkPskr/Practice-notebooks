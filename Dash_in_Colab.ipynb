{
  "nbformat": 4,
  "nbformat_minor": 0,
  "metadata": {
    "colab": {
      "name": "Dash in Colab.ipynb",
      "provenance": [],
      "authorship_tag": "ABX9TyMwcCbvz4yfVlmRbxpL1X7P",
      "include_colab_link": true
    },
    "kernelspec": {
      "name": "python3",
      "display_name": "Python 3"
    }
  },
  "cells": [
    {
      "cell_type": "markdown",
      "metadata": {
        "id": "view-in-github",
        "colab_type": "text"
      },
      "source": [
        "<a href=\"https://colab.research.google.com/github/AbshkPskr/Practice-notebooks/blob/master/Dash_in_Colab.ipynb\" target=\"_parent\"><img src=\"https://colab.research.google.com/assets/colab-badge.svg\" alt=\"Open In Colab\"/></a>"
      ]
    },
    {
      "cell_type": "code",
      "metadata": {
        "id": "mhqctaEV-yTy"
      },
      "source": [
        "!pip install flask-ngrok\r\n",
        "!pip install dash\r\n",
        "!pip install dash_core_components\r\n",
        "!pip install dash_html_components\r\n",
        "!pip install dash_table"
      ],
      "execution_count": null,
      "outputs": []
    },
    {
      "cell_type": "code",
      "metadata": {
        "id": "MINwdGvBBHZM"
      },
      "source": [
        "from flask_ngrok import run_with_ngrok\r\n",
        "from flask import Flask\r\n",
        "app = Flask(__name__)\r\n",
        "run_with_ngrok(app)   #starts ngrok when the app is run\r\n",
        "@app.route(\"/\")\r\n",
        "def home():\r\n",
        "    return \"<h1>Running Flask on Google Colab!</h1>\"\r\n",
        "  \r\n",
        "app.run()"
      ],
      "execution_count": null,
      "outputs": []
    },
    {
      "cell_type": "code",
      "metadata": {
        "id": "wRSQOrsjBQRC"
      },
      "source": [
        "import dash\r\n",
        "from flask_ngrok import run_with_ngrok\r\n",
        "\r\n",
        "app = dash.Dash(__name__)\r\n",
        "run_with_ngrok(app)\r\n",
        "\r\n",
        "@app.route(\"/\")\r\n",
        "def home():\r\n",
        "    return \"<h1>Running Flask on Google Colab!</h1>\"\r\n",
        "\r\n",
        "app.run()"
      ],
      "execution_count": null,
      "outputs": []
    },
    {
      "cell_type": "code",
      "metadata": {
        "id": "dVqiGzNVDGQA"
      },
      "source": [
        "import dash\r\n",
        "import dash_core_components as dcc\r\n",
        "import dash_html_components as html\r\n",
        "import plotly.express as px\r\n",
        "import pandas as pd\r\n",
        "\r\n",
        "external_stylesheets = ['https://codepen.io/chriddyp/pen/bWLwgP.css']\r\n",
        "\r\n",
        "app = dash.Dash(__name__, external_stylesheets=external_stylesheets)\r\n",
        "\r\n",
        "# assume you have a \"long-form\" data frame\r\n",
        "# see https://plotly.com/python/px-arguments/ for more options\r\n",
        "df = pd.DataFrame({\r\n",
        "    \"Fruit\": [\"Apples\", \"Oranges\", \"Bananas\", \"Apples\", \"Oranges\", \"Bananas\"],\r\n",
        "    \"Amount\": [4, 1, 2, 2, 4, 5],\r\n",
        "    \"City\": [\"SF\", \"SF\", \"SF\", \"Montreal\", \"Montreal\", \"Montreal\"]\r\n",
        "})\r\n",
        "\r\n",
        "fig = px.bar(df, x=\"Fruit\", y=\"Amount\", color=\"City\", barmode=\"group\")\r\n",
        "\r\n",
        "app.layout = html.Div(children=[\r\n",
        "    html.H1(children='Hello Dash'),\r\n",
        "\r\n",
        "    html.Div(children='''\r\n",
        "        Dash: A web application framework for Python.\r\n",
        "    '''),\r\n",
        "\r\n",
        "    dcc.Graph(\r\n",
        "        id='example-graph',\r\n",
        "        figure=fig\r\n",
        "    )\r\n",
        "])\r\n",
        "\r\n",
        "run_with_ngrok(app)\r\n",
        "if __name__ == '__main__':\r\n",
        "    app.run_server(debug=True)"
      ],
      "execution_count": null,
      "outputs": []
    },
    {
      "cell_type": "code",
      "metadata": {
        "id": "s4M6ryl8DWDm"
      },
      "source": [
        "pip install jupyter-dash -q"
      ],
      "execution_count": null,
      "outputs": []
    },
    {
      "cell_type": "code",
      "metadata": {
        "id": "v4DP9MdkEqhS"
      },
      "source": [
        "import plotly.express as px\r\n",
        "from jupyter_dash import JupyterDash\r\n",
        "import dash_core_components as dcc\r\n",
        "import dash_html_components as html\r\n",
        "from dash.dependencies import Input, Output\r\n",
        "\r\n",
        "# Load Data\r\n",
        "df = px.data.tips()\r\n",
        "# Build App\r\n",
        "app = JupyterDash(__name__)\r\n",
        "app.layout = html.Div([\r\n",
        "    html.H1(\"JupyterDash Demo\"),\r\n",
        "    dcc.Graph(id='graph'),\r\n",
        "    html.Label([\r\n",
        "        \"colorscale\",\r\n",
        "        dcc.Dropdown(\r\n",
        "            id='colorscale-dropdown', clearable=False,\r\n",
        "            value='plasma', options=[\r\n",
        "                {'label': c, 'value': c}\r\n",
        "                for c in px.colors.named_colorscales()\r\n",
        "            ])\r\n",
        "    ]),\r\n",
        "])\r\n",
        "# Define callback to update graph\r\n",
        "@app.callback(\r\n",
        "    Output('graph', 'figure'),\r\n",
        "    [Input(\"colorscale-dropdown\", \"value\")]\r\n",
        ")\r\n",
        "def update_figure(colorscale):\r\n",
        "    return px.scatter(\r\n",
        "        df, x=\"total_bill\", y=\"tip\", color=\"size\",\r\n",
        "        color_continuous_scale=colorscale,\r\n",
        "        render_mode=\"webgl\", title=\"Tips\"\r\n",
        "    )\r\n",
        "# Run app and display result inline in the notebook\r\n",
        "app.run_server()"
      ],
      "execution_count": null,
      "outputs": []
    }
  ]
}